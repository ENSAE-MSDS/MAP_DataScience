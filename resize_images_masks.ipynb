{
 "cells": [
  {
   "cell_type": "code",
   "execution_count": 1,
   "metadata": {},
   "outputs": [],
   "source": [
    "import pandas as pd\n",
    "import math \n",
    "import numpy as np\n",
    "import matplotlib.pyplot as plt\n",
    "import cv2\n",
    "import json\n",
    "import os"
   ]
  },
  {
   "cell_type": "code",
   "execution_count": 2,
   "metadata": {},
   "outputs": [],
   "source": [
    "class DirectoryManager:\n",
    "    \"\"\"\n",
    "    A helper class to manage directory operations such as ensuring directories exist.\n",
    "    \"\"\"\n",
    "    @staticmethod\n",
    "    def ensure_directory_exists(file_path):\n",
    "        \"\"\"\n",
    "        Ensures that the directory for the given file path exists. \n",
    "        Creates the directory if it does not exist.\n",
    "        Args:\n",
    "            file_path (str): The file path for which the directory needs to be checked/created.\n",
    "        \"\"\"\n",
    "        directory = os.path.dirname(file_path)\n",
    "        if not os.path.exists(directory):\n",
    "            os.makedirs(directory)\n",
    "            \n",
    "class DataReader:\n",
    "    \"\"\"\n",
    "    A helper class to read image and mask data from specified paths.\n",
    "    \"\"\"\n",
    "    @staticmethod\n",
    "    def read_data(image_path, mask_path):\n",
    "        \"\"\"\n",
    "        Reads an image and its corresponding mask from the given file paths.\n",
    "        Args:\n",
    "            image_path (str): Path to the image file.\n",
    "            mask_path (str): Path to the mask file.\n",
    "        Returns:\n",
    "            tuple: A tuple containing the original image and mask as numpy arrays.\n",
    "        \"\"\"\n",
    "        image = cv2.imread(image_path)\n",
    "        original_image = cv2.cvtColor(image, cv2.COLOR_BGR2RGB)\n",
    "        original_mask = cv2.imread(mask_path, cv2.IMREAD_GRAYSCALE)\n",
    "        return original_image, original_mask\n",
    "    \n",
    "    @staticmethod\n",
    "    def read_mask(mask_path):\n",
    "        \"\"\"\n",
    "        Reads a mask from the given file paths.\n",
    "        Args:\n",
    "            mask_path (str): Path to the mask file.\n",
    "        Returns:\n",
    "            the original mask as numpy arrays.\n",
    "        \"\"\"\n",
    "        original_mask = cv2.imread(mask_path, cv2.IMREAD_GRAYSCALE)\n",
    "        return original_mask\n",
    "\n",
    "data_reader = DataReader()\n",
    "directory_manager = DirectoryManager()"
   ]
  },
  {
   "cell_type": "code",
   "execution_count": 3,
   "metadata": {},
   "outputs": [],
   "source": [
    "class ImageResizer : \n",
    "    '''\n",
    "        This class enables us to resized an original mask and its corresponding \n",
    "        satellite image into smaller square masks and images.\n",
    "    '''\n",
    "    \n",
    "    def __init__(self, images_dir : str, masks_dir : str,resized_images_dir : str,\n",
    "                 resized_masks_dir : str, image_size : int) :\n",
    "\n",
    "        self.images_dir = images_dir\n",
    "        self.masks_dir = masks_dir\n",
    "        self.resized_images_dir = resized_images_dir\n",
    "        self.resized_masks_dir = resized_masks_dir\n",
    "        self.image_size = image_size # the size of the new square images and masks\n",
    "\n",
    "        \n",
    "    def cutting_mask(self, image_name, show = False): \n",
    "        '''\n",
    "        This function cuts the original mask into smaller masks of size 512x512 (by default). \n",
    "        The objective is to cover the entire original mask with smaller masks of the same size\n",
    "        while reducing as much as possible the intersection area between them.\n",
    "        '''\n",
    "        \n",
    "        og_mask = data_reader.read_mask(os.path.join(self.masks_dir, image_name).replace('.png', '_mask.png'))\n",
    "        \n",
    "        height, width = og_mask.shape\n",
    "        \n",
    "        # Definiton of the number of images along the height of the original mask\n",
    "#         height = len(og_mask[:,0])\n",
    "        number_height_images = math.ceil(height/self.image_size)\n",
    "        height_shift = (((number_height_images * self.image_size) - height)/ (number_height_images-1))\n",
    "        \n",
    "        # Definiton of the number of images along the width of the original mask\n",
    "#         width = len(og_mask[0,:])\n",
    "        number_width_images = math.ceil(width/self.image_size)\n",
    "        width_shift = (((number_width_images * self.image_size) - width)/ (number_width_images-1))\n",
    "        \n",
    "        # Definition of the list that contains the smaller masks of identical size\n",
    "        self.smaller_masks = {'values':[], 'coordinates':[]}\n",
    "        for height_idx in range(number_height_images) :\n",
    "            for width_idx in range(number_width_images) : \n",
    "                \n",
    "                start_point_height = int((height_idx * self.image_size) - (height_shift * height_idx))\n",
    "                start_point_width = int((width_idx * self.image_size) - (width_shift * width_idx))\n",
    "                \n",
    "                self.smaller_masks['values'].append(og_mask[start_point_height:start_point_height+self.image_size,\n",
    "                                                    start_point_width:start_point_width+self.image_size])\n",
    "                self.smaller_masks['coordinates'].append((start_point_height,start_point_width))\n",
    "        \n",
    "        # Find the smaller mask that as the largest amout of parking spot \n",
    "        size_of_parking = [sum(sum(self.smaller_masks.get('values')[i])) for i in range(len(self.smaller_masks.get('values')))]\n",
    "        max_parking_mask = np.argmax(size_of_parking)\n",
    "        \n",
    "        # Save the number of masks on the width and on the height insed the dictionnary. Useful for later visual verifications with plt.\n",
    "        self.number_width_height = (number_height_images, number_width_images)\n",
    "        \n",
    "        # Display the smaller masks to check that everything is correct    \n",
    "        if show : \n",
    "            fig, axs = plt.subplots(number_height_images, number_width_images, figsize=(8,8))\n",
    "            for ax, mask, idx in zip(axs.ravel(), self.smaller_masks.get('values'), range(len(size_of_parking))):\n",
    "                ax.imshow(mask)\n",
    "                # Highlight the smaller mask with the largest parking spot in red\n",
    "                if idx == max_parking_mask :\n",
    "                    ax.spines['bottom'].set_color('red')\n",
    "                    ax.spines['top'].set_color('red') \n",
    "                    ax.spines['right'].set_color('red')\n",
    "                    ax.spines['left'].set_color('red')\n",
    "                    ax.tick_params(left = False, \n",
    "                                right = False, \n",
    "                                labelleft = False ,\n",
    "                                labelbottom = False, \n",
    "                                bottom = False)\n",
    "                else : \n",
    "                    ax.axis('off')\n",
    "            plt.tight_layout()\n",
    "            plt.show()\n",
    "            \n",
    "        return self.smaller_masks   \n",
    "    \n",
    "    def best_masks(self, number_of_mask : int, show = False): \n",
    "        '''\n",
    "            This function takes a list of smaller masks and return the \"number_of_mask\"\n",
    "            masks with the largets area considered as a parking spot. \n",
    "        '''\n",
    "        \n",
    "        list_of_parking_size = [sum(sum(self.smaller_masks.get('values')[i])) for i in range(len(self.smaller_masks.get('values')))]\n",
    "        \n",
    "        # Initialisation of the dictionary containning the best masks. \n",
    "        self.dict_best_masks = {'values':[], 'coordinates':[]}\n",
    "        \n",
    "        for _ in range(number_of_mask) :\n",
    "            max_mask_idx = np.argmax(list_of_parking_size)\n",
    "            self.dict_best_masks['values'].append(self.smaller_masks.get('values')[max_mask_idx])\n",
    "            self.dict_best_masks['coordinates'].append(self.smaller_masks.get('coordinates')[max_mask_idx])\n",
    "            # Remove the max that has been added to the dictionary \n",
    "            list_of_parking_size[max_mask_idx] = -1\n",
    "            \n",
    "        # Display the best masks to check that everything is correct    \n",
    "        if show : \n",
    "            fig, axs = plt.subplots(self.number_width_height[0],\n",
    "                                    self.number_width_height[1], \n",
    "                                    figsize=(8,8))\n",
    "            \n",
    "            for ax, mask, parking_size in zip(axs.ravel(), self.smaller_masks.get('values'), list_of_parking_size):\n",
    "                \n",
    "                # Show only the best masks \n",
    "                if parking_size == -1 :\n",
    "                    ax.imshow(mask)\n",
    "            \n",
    "                ax.axis('off')\n",
    "                \n",
    "            plt.tight_layout()\n",
    "            plt.show()\n",
    "        \n",
    "        return self.dict_best_masks\n",
    "    \n",
    "    def save_new_images_masks(self, number_of_mask, image_name : str, show = False):\n",
    "    \n",
    "        # Create smaller masks \n",
    "        self.cutting_mask(image_name)\n",
    "       \n",
    "        # Select the masks that contains the highest number of parking spot\n",
    "        self.best_masks(number_of_mask)\n",
    "\n",
    "        # Retrieve the original image\n",
    "        og_image = cv2.imread(os.path.join(self.images_dir, image_name))\n",
    "\n",
    "        for mask_idx in range(len(self.dict_best_masks.get('coordinates'))) : \n",
    "\n",
    "            # Get the top/right coordinates the new smaller mask\n",
    "            y_starting_point, x_starting_point = self.dict_best_masks.get('coordinates')[mask_idx]\n",
    "\n",
    "            # Recreate the new square smaller corresponding image from those coordinates\n",
    "            new_image = og_image[y_starting_point:y_starting_point+self.image_size, \n",
    "                               x_starting_point:x_starting_point+self.image_size,\n",
    "                               :]\n",
    "\n",
    "            # Save the new smaller mask \n",
    "            resized_mask_path = os.path.join(self.resized_masks_dir, image_name).replace('.png', f'_{mask_idx+1}_mask.png')\n",
    "            directory_manager.ensure_directory_exists(resized_mask_path)\n",
    "            cv2.imwrite(resized_mask_path,\n",
    "                      self.dict_best_masks.get('values')[mask_idx])\n",
    "\n",
    "            # Save the new corresponding image\n",
    "            resized_image_path = os.path.join(self.resized_images_dir, image_name).replace('.png', f'_{mask_idx+1}.png')\n",
    "            directory_manager.ensure_directory_exists(resized_image_path)\n",
    "            cv2.imwrite(resized_image_path,\n",
    "                      new_image)\n",
    "\n",
    "        print(f'{image_name} correctly resized into {len(self.dict_best_masks.get(\"coordinates\"))}',\n",
    "              f'square images of size {self.image_size}px')\n",
    "\n",
    "        # Display the image to check that everything is correct \n",
    "        if show :  \n",
    "            plt.imshow(og_image[:,:,::-1])\n",
    "            plt.axis('off')\n"
   ]
  },
  {
   "cell_type": "markdown",
   "metadata": {},
   "source": [
    "### Choose Random 18 images and masks to go to validation DataSet"
   ]
  },
  {
   "cell_type": "code",
   "execution_count": 4,
   "metadata": {},
   "outputs": [],
   "source": [
    "np.random.seed(42)\n",
    "validation_image_names = list(np.random.choice(os.listdir('../data/images/'), size = 18, replace = False))\n",
    "training_image_names = list(set(os.listdir('../data/images/'))- set(validation_image_names))"
   ]
  },
  {
   "cell_type": "markdown",
   "metadata": {},
   "source": [
    "### Instanciate different image resizer"
   ]
  },
  {
   "cell_type": "code",
   "execution_count": 5,
   "metadata": {},
   "outputs": [],
   "source": [
    "# Instanciation of the class \n",
    "training_image_resizer = ImageResizer(\n",
    "                                images_dir = '../data/images', \n",
    "                                masks_dir = '../data/masks',\n",
    "                                resized_images_dir = '../data/train/images',\n",
    "                                resized_masks_dir = '../data/train/masks',\n",
    "                                image_size = 256\n",
    "                        )\n",
    "\n",
    "# Instanciation of the class \n",
    "validation_image_resizer = ImageResizer(\n",
    "                                images_dir = '../data/images', \n",
    "                                masks_dir = '../data/masks',\n",
    "                                resized_images_dir = '../data/val/images',\n",
    "                                resized_masks_dir = '../data/val/masks',\n",
    "                                image_size = 256\n",
    "                        )\n",
    "\n",
    "# # Instanciation of the class \n",
    "# test_image_resizer = ImageResizer(\n",
    "#                                 images_dir = '../data/test/images', \n",
    "#                                 masks_dir = '../data/test/masks',\n",
    "#                                 resized_images_dir = '../data/test/images',\n",
    "#                                 resized_masks_dir = '../data/test/masks',\n",
    "#                                 image_size = 256\n",
    "#                         )"
   ]
  },
  {
   "cell_type": "code",
   "execution_count": 6,
   "metadata": {},
   "outputs": [
    {
     "name": "stdout",
     "output_type": "stream",
     "text": [
      "image_yn_4.png correctly resized into 4 square images of size 256px\n",
      "image_yn_12.png correctly resized into 4 square images of size 256px\n",
      "image_yn_28.png correctly resized into 4 square images of size 256px\n",
      "image_max_50.png correctly resized into 4 square images of size 256px\n",
      "image_max_5.png correctly resized into 4 square images of size 256px\n",
      "image_max_45.png correctly resized into 4 square images of size 256px\n",
      "image_max_3.png correctly resized into 4 square images of size 256px\n",
      "image_yn_37.png correctly resized into 4 square images of size 256px\n",
      "image_max_19.png correctly resized into 4 square images of size 256px\n",
      "image_max_1.png correctly resized into 4 square images of size 256px\n",
      "image_max_26.png correctly resized into 4 square images of size 256px\n",
      "image_max_37.png correctly resized into 4 square images of size 256px\n",
      "image_yn_30.png correctly resized into 4 square images of size 256px\n",
      "image_max_4.png correctly resized into 4 square images of size 256px\n",
      "image_yn_46.png correctly resized into 4 square images of size 256px\n",
      "image_max_13.png correctly resized into 4 square images of size 256px\n",
      "image_yn_33.png correctly resized into 4 square images of size 256px\n",
      "image_yn_34.png correctly resized into 4 square images of size 256px\n"
     ]
    }
   ],
   "source": [
    "# Creation of the resized masks and images \n",
    "for image_name in validation_image_names:\n",
    "    validation_image_resizer.save_new_images_masks(number_of_mask= 4, image_name = image_name)"
   ]
  },
  {
   "cell_type": "code",
   "execution_count": 7,
   "metadata": {},
   "outputs": [
    {
     "name": "stdout",
     "output_type": "stream",
     "text": [
      "image_max_46.png correctly resized into 4 square images of size 256px\n",
      "image_yn_22.png correctly resized into 4 square images of size 256px\n",
      "image_yn_15.png correctly resized into 4 square images of size 256px\n",
      "image_yn_14.png correctly resized into 4 square images of size 256px\n",
      "image_max_48.png correctly resized into 4 square images of size 256px\n",
      "image_yn_10.png correctly resized into 4 square images of size 256px\n",
      "image_max_23.png correctly resized into 4 square images of size 256px\n",
      "image_yn_27.png correctly resized into 4 square images of size 256px\n",
      "image_yn_29.png correctly resized into 4 square images of size 256px\n",
      "image_max_22.png correctly resized into 4 square images of size 256px\n",
      "image_max_14.png correctly resized into 4 square images of size 256px\n",
      "image_yn_31.png correctly resized into 4 square images of size 256px\n",
      "image_yn_39.png correctly resized into 4 square images of size 256px\n",
      "image_yn_26.png correctly resized into 4 square images of size 256px\n",
      "image_max_34.png correctly resized into 4 square images of size 256px\n",
      "image_max_36.png correctly resized into 4 square images of size 256px\n",
      "image_yn_7.png correctly resized into 4 square images of size 256px\n",
      "image_max_33.png correctly resized into 4 square images of size 256px\n",
      "image_max_11.png correctly resized into 4 square images of size 256px\n",
      "image_yn_16.png correctly resized into 4 square images of size 256px\n",
      "image_max_10.png correctly resized into 4 square images of size 256px\n",
      "image_yn_3.png correctly resized into 4 square images of size 256px\n",
      "image_max_29.png correctly resized into 4 square images of size 256px\n",
      "image_yn_6.png correctly resized into 4 square images of size 256px\n",
      "image_yn_21.png correctly resized into 4 square images of size 256px\n",
      "image_max_32.png correctly resized into 4 square images of size 256px\n",
      "image_max_28.png correctly resized into 4 square images of size 256px\n",
      "image_max_9.png correctly resized into 4 square images of size 256px\n",
      "image_max_18.png correctly resized into 4 square images of size 256px\n",
      "image_max_6.png correctly resized into 4 square images of size 256px\n",
      "image_max_49.png correctly resized into 4 square images of size 256px\n",
      "image_max_47.png correctly resized into 4 square images of size 256px\n",
      "image_yn_47.png correctly resized into 4 square images of size 256px\n",
      "image_max_24.png correctly resized into 4 square images of size 256px\n",
      "image_yn_5.png correctly resized into 4 square images of size 256px\n",
      "image_max_16.png correctly resized into 4 square images of size 256px\n",
      "image_max_27.png correctly resized into 4 square images of size 256px\n",
      "image_max_12.png correctly resized into 4 square images of size 256px\n",
      "image_yn_45.png correctly resized into 4 square images of size 256px\n",
      "image_max_17.png correctly resized into 4 square images of size 256px\n",
      "image_yn_11.png correctly resized into 4 square images of size 256px\n",
      "image_max_21.png correctly resized into 4 square images of size 256px\n",
      "image_yn_49.png correctly resized into 4 square images of size 256px\n",
      "image_max_41.png correctly resized into 4 square images of size 256px\n",
      "image_yn_41.png correctly resized into 4 square images of size 256px\n",
      "image_max_40.png correctly resized into 4 square images of size 256px\n",
      "image_max_43.png correctly resized into 4 square images of size 256px\n",
      "image_max_42.png correctly resized into 4 square images of size 256px\n",
      "image_max_15.png correctly resized into 4 square images of size 256px\n",
      "image_yn_48.png correctly resized into 4 square images of size 256px\n",
      "image_yn_42.png correctly resized into 4 square images of size 256px\n",
      "image_yn_18.png correctly resized into 4 square images of size 256px\n",
      "image_max_8.png correctly resized into 4 square images of size 256px\n",
      "image_yn_8.png correctly resized into 4 square images of size 256px\n",
      "image_yn_2.png correctly resized into 4 square images of size 256px\n",
      "image_yn_20.png correctly resized into 4 square images of size 256px\n",
      "image_yn_1.png correctly resized into 4 square images of size 256px\n",
      "image_max_7.png correctly resized into 4 square images of size 256px\n",
      "image_yn_24.png correctly resized into 4 square images of size 256px\n",
      "image_max_25.png correctly resized into 4 square images of size 256px\n",
      "image_max_44.png correctly resized into 4 square images of size 256px\n",
      "image_max_38.png correctly resized into 4 square images of size 256px\n",
      "image_max_31.png correctly resized into 4 square images of size 256px\n",
      "image_yn_44.png correctly resized into 4 square images of size 256px\n",
      "image_yn_25.png correctly resized into 4 square images of size 256px\n",
      "image_max_30.png correctly resized into 4 square images of size 256px\n",
      "image_yn_43.png correctly resized into 4 square images of size 256px\n",
      "image_yn_35.png correctly resized into 4 square images of size 256px\n",
      "image_yn_13.png correctly resized into 4 square images of size 256px\n",
      "image_yn_32.png correctly resized into 4 square images of size 256px\n",
      "image_yn_50.png correctly resized into 4 square images of size 256px\n",
      "image_yn_38.png correctly resized into 4 square images of size 256px\n",
      "image_yn_40.png correctly resized into 4 square images of size 256px\n",
      "image_yn_17.png correctly resized into 4 square images of size 256px\n",
      "image_yn_36.png correctly resized into 4 square images of size 256px\n",
      "image_yn_23.png correctly resized into 4 square images of size 256px\n",
      "image_max_2.png correctly resized into 4 square images of size 256px\n",
      "image_yn_19.png correctly resized into 4 square images of size 256px\n",
      "image_max_20.png correctly resized into 4 square images of size 256px\n",
      "image_max_35.png correctly resized into 4 square images of size 256px\n",
      "image_max_39.png correctly resized into 4 square images of size 256px\n",
      "image_yn_9.png correctly resized into 4 square images of size 256px\n"
     ]
    }
   ],
   "source": [
    "# Creation of the resized masks and images \n",
    "for image_name in training_image_names:\n",
    "    training_image_resizer.save_new_images_masks(number_of_mask= 4, image_name = image_name)"
   ]
  },
  {
   "cell_type": "code",
   "execution_count": 8,
   "metadata": {},
   "outputs": [
    {
     "data": {
      "text/plain": [
       "328"
      ]
     },
     "execution_count": 8,
     "metadata": {},
     "output_type": "execute_result"
    }
   ],
   "source": [
    "len(os.listdir(\"../data/train/images/\"))"
   ]
  },
  {
   "cell_type": "code",
   "execution_count": 9,
   "metadata": {},
   "outputs": [
    {
     "data": {
      "text/plain": [
       "328"
      ]
     },
     "execution_count": 9,
     "metadata": {},
     "output_type": "execute_result"
    }
   ],
   "source": [
    "len(os.listdir(\"../data/train/masks/\"))"
   ]
  },
  {
   "cell_type": "code",
   "execution_count": 10,
   "metadata": {},
   "outputs": [
    {
     "data": {
      "text/plain": [
       "72"
      ]
     },
     "execution_count": 10,
     "metadata": {},
     "output_type": "execute_result"
    }
   ],
   "source": [
    "len(os.listdir(\"../data/val/images/\"))"
   ]
  },
  {
   "cell_type": "code",
   "execution_count": 11,
   "metadata": {},
   "outputs": [
    {
     "data": {
      "text/plain": [
       "72"
      ]
     },
     "execution_count": 11,
     "metadata": {},
     "output_type": "execute_result"
    }
   ],
   "source": [
    "len(os.listdir(\"../data/val/masks/\"))"
   ]
  },
  {
   "cell_type": "code",
   "execution_count": null,
   "metadata": {},
   "outputs": [],
   "source": []
  }
 ],
 "metadata": {
  "kernelspec": {
   "display_name": "Python 3 (ipykernel)",
   "language": "python",
   "name": "python3"
  },
  "language_info": {
   "codemirror_mode": {
    "name": "ipython",
    "version": 3
   },
   "file_extension": ".py",
   "mimetype": "text/x-python",
   "name": "python",
   "nbconvert_exporter": "python",
   "pygments_lexer": "ipython3",
   "version": "3.9.7"
  },
  "toc": {
   "base_numbering": 1,
   "nav_menu": {},
   "number_sections": true,
   "sideBar": true,
   "skip_h1_title": false,
   "title_cell": "Table of Contents",
   "title_sidebar": "Contents",
   "toc_cell": false,
   "toc_position": {},
   "toc_section_display": true,
   "toc_window_display": false
  }
 },
 "nbformat": 4,
 "nbformat_minor": 2
}
