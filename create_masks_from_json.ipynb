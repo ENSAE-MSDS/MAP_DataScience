{
 "cells": [
  {
   "cell_type": "code",
   "execution_count": 1,
   "id": "c799ecd7",
   "metadata": {},
   "outputs": [],
   "source": [
    "import  matplotlib.pyplot as plt\n",
    "import json\n",
    "import os\n",
    "from PIL import Image, ImageDraw\n",
    "\n",
    "\n",
    "class DirectoryManager:\n",
    "    \"\"\"\n",
    "    A helper class to manage directory operations such as ensuring directories exist.\n",
    "    \"\"\"\n",
    "    @staticmethod\n",
    "    def ensure_directory_exists(file_path):\n",
    "        \"\"\"\n",
    "        Ensures that the directory for the given file path exists. \n",
    "        Creates the directory if it does not exist.\n",
    "        Args:\n",
    "            file_path (str): The file path for which the directory needs to be checked/created.\n",
    "        \"\"\"\n",
    "        directory = os.path.dirname(file_path)\n",
    "        if not os.path.exists(directory):\n",
    "            os.makedirs(directory)\n",
    "            \n",
    "directory_manager = DirectoryManager()\n"
   ]
  },
  {
   "cell_type": "code",
   "execution_count": 2,
   "id": "6f6e1d32",
   "metadata": {},
   "outputs": [],
   "source": [
    "class ImageMaskGenerator:\n",
    "    \"\"\"\n",
    "    Cette classe génère des masques d'images basés sur des annotations de polygones fournies dans un fichier JSON.\n",
    "    \"\"\"\n",
    "\n",
    "    def __init__(self, json_path, images_folder, masks_folder, YN = False):\n",
    "        \"\"\"\n",
    "        Initialise le générateur de masques d'images.\n",
    "\n",
    "        :param json_path: Chemin vers le fichier JSON contenant les annotations.\n",
    "        :param images_folder: Dossier contenant les images originales.\n",
    "        :param masks_folder: Dossier de destination pour sauvegarder les masques générés.\n",
    "        :param YN : booléen qui indique qu'on utilise un autre format json venant de Label Studio.\n",
    "        \"\"\"\n",
    "        self.json_path = json_path\n",
    "        self.images_folder = images_folder\n",
    "        self.masks_folder = masks_folder\n",
    "        self.YN = YN\n",
    "\n",
    "    def load_json_data(self):\n",
    "        \"\"\"\n",
    "        Charge les données JSON du fichier spécifié.\n",
    "\n",
    "        :return: Les données JSON chargées.\n",
    "        \"\"\"\n",
    "        with open(self.json_path) as file:\n",
    "            return json.load(file)\n",
    "\n",
    "    def generate_masks(self):\n",
    "        \"\"\"\n",
    "        Génère des masques pour chaque image basée sur les annotations de polygones dans le fichier JSON.\n",
    "        \"\"\"\n",
    "        data = self.load_json_data()\n",
    "        \n",
    "        for label_info in data:\n",
    "            if self.YN : \n",
    "                image_name = label_info.get('data').get('image').split('-')[1]\n",
    "            else : \n",
    "                image_name = label_info['data_row']['external_id']\n",
    "            image_path = os.path.join(self.images_folder, image_name)\n",
    "            image = Image.open(image_path)\n",
    "\n",
    "            mask = self.create_mask(image, label_info)\n",
    "            plt.imshow(mask)\n",
    "            self.save_mask(mask, image_name)\n",
    "\n",
    "    def create_mask(self, image, label_info):\n",
    "        \"\"\"\n",
    "        Crée un masque pour une image unique basée sur les annotations de polygones.\n",
    "\n",
    "        :param image: L'objet Image PIL de l'image.\n",
    "        :param label_info: Les informations d'étiquetage pour cette image.\n",
    "        :return: L'objet Image PIL du masque.\n",
    "        \"\"\"\n",
    "        width, height = image.size\n",
    "        mask = Image.new('L', (width, height), 0)\n",
    "        draw = ImageDraw.Draw(mask)\n",
    "        \n",
    "        if self.YN : \n",
    "            polygons = []\n",
    "            for i in range(len(label_info.get('annotations')[0].get('result'))):\n",
    "                polygons.append(label_info.get('annotations')[0].get('result')[i].get('value').get('points'))\n",
    "            \n",
    "            for polygon in polygons:\n",
    "                points = [(point[0]*width/100, point[1]*height/100) for point in polygon]\n",
    "                draw.polygon(points, fill=255)\n",
    "            \n",
    "        else : \n",
    "            polygons = [obj[\"polygon\"] for obj in label_info[\"projects\"][\"clqxivkqq03v807wi5dp3e5yk\"][\"labels\"][0][\"annotations\"][\"objects\"]]\n",
    "            for polygon in polygons:\n",
    "                points = [(point['x'], point['y']) for point in polygon]\n",
    "                draw.polygon(points, fill=255)\n",
    "\n",
    "        return mask\n",
    "\n",
    "    def save_mask(self, mask, image_name):\n",
    "        \"\"\"\n",
    "        Sauvegarde le masque dans le dossier spécifié.\n",
    "\n",
    "        :param mask: L'objet Image PIL du masque à sauvegarder.\n",
    "        :param image_name: Le nom de l'image source.\n",
    "        \"\"\"\n",
    "        mask_file_name = os.path.basename(image_name).replace('.png', '_mask.png')\n",
    "        mask_path = os.path.join(self.masks_folder, mask_file_name)\n",
    "        # create directory if not exists\n",
    "        directory_manager.ensure_directory_exists(mask_path)\n",
    "        mask.save(mask_path)\n",
    "        print(f\"Masque sauvegardé dans : {mask_path}\")\n"
   ]
  },
  {
   "cell_type": "code",
   "execution_count": 3,
   "id": "a04101c2",
   "metadata": {},
   "outputs": [
    {
     "name": "stdout",
     "output_type": "stream",
     "text": [
      "Masque sauvegardé dans : ../data/masks\\image_yn_1_mask.png\n",
      "Masque sauvegardé dans : ../data/masks\\image_yn_2_mask.png\n",
      "Masque sauvegardé dans : ../data/masks\\image_yn_3_mask.png\n",
      "Masque sauvegardé dans : ../data/masks\\image_yn_4_mask.png\n",
      "Masque sauvegardé dans : ../data/masks\\image_yn_5_mask.png\n",
      "Masque sauvegardé dans : ../data/masks\\image_yn_6_mask.png\n",
      "Masque sauvegardé dans : ../data/masks\\image_yn_7_mask.png\n",
      "Masque sauvegardé dans : ../data/masks\\image_yn_8_mask.png\n",
      "Masque sauvegardé dans : ../data/masks\\image_yn_9_mask.png\n",
      "Masque sauvegardé dans : ../data/masks\\image_yn_11_mask.png\n",
      "Masque sauvegardé dans : ../data/masks\\image_yn_12_mask.png\n",
      "Masque sauvegardé dans : ../data/masks\\image_yn_13_mask.png\n",
      "Masque sauvegardé dans : ../data/masks\\image_yn_14_mask.png\n",
      "Masque sauvegardé dans : ../data/masks\\image_yn_15_mask.png\n",
      "Masque sauvegardé dans : ../data/masks\\image_yn_16_mask.png\n",
      "Masque sauvegardé dans : ../data/masks\\image_yn_17_mask.png\n",
      "Masque sauvegardé dans : ../data/masks\\image_yn_18_mask.png\n",
      "Masque sauvegardé dans : ../data/masks\\image_yn_19_mask.png\n",
      "Masque sauvegardé dans : ../data/masks\\image_yn_20_mask.png\n",
      "Masque sauvegardé dans : ../data/masks\\image_yn_21_mask.png\n",
      "Masque sauvegardé dans : ../data/masks\\image_yn_22_mask.png\n",
      "Masque sauvegardé dans : ../data/masks\\image_yn_23_mask.png\n",
      "Masque sauvegardé dans : ../data/masks\\image_yn_24_mask.png\n",
      "Masque sauvegardé dans : ../data/masks\\image_yn_25_mask.png\n",
      "Masque sauvegardé dans : ../data/masks\\image_yn_26_mask.png\n",
      "Masque sauvegardé dans : ../data/masks\\image_yn_27_mask.png\n",
      "Masque sauvegardé dans : ../data/masks\\image_yn_28_mask.png\n",
      "Masque sauvegardé dans : ../data/masks\\image_yn_29_mask.png\n",
      "Masque sauvegardé dans : ../data/masks\\image_yn_30_mask.png\n",
      "Masque sauvegardé dans : ../data/masks\\image_yn_31_mask.png\n",
      "Masque sauvegardé dans : ../data/masks\\image_yn_32_mask.png\n",
      "Masque sauvegardé dans : ../data/masks\\image_yn_33_mask.png\n",
      "Masque sauvegardé dans : ../data/masks\\image_yn_34_mask.png\n",
      "Masque sauvegardé dans : ../data/masks\\image_yn_35_mask.png\n",
      "Masque sauvegardé dans : ../data/masks\\image_yn_36_mask.png\n",
      "Masque sauvegardé dans : ../data/masks\\image_yn_37_mask.png\n",
      "Masque sauvegardé dans : ../data/masks\\image_yn_38_mask.png\n",
      "Masque sauvegardé dans : ../data/masks\\image_yn_39_mask.png\n",
      "Masque sauvegardé dans : ../data/masks\\image_yn_40_mask.png\n",
      "Masque sauvegardé dans : ../data/masks\\image_yn_41_mask.png\n",
      "Masque sauvegardé dans : ../data/masks\\image_yn_42_mask.png\n",
      "Masque sauvegardé dans : ../data/masks\\image_yn_43_mask.png\n",
      "Masque sauvegardé dans : ../data/masks\\image_yn_44_mask.png\n",
      "Masque sauvegardé dans : ../data/masks\\image_yn_45_mask.png\n",
      "Masque sauvegardé dans : ../data/masks\\image_yn_46_mask.png\n",
      "Masque sauvegardé dans : ../data/masks\\image_yn_47_mask.png\n",
      "Masque sauvegardé dans : ../data/masks\\image_yn_48_mask.png\n",
      "Masque sauvegardé dans : ../data/masks\\image_yn_49_mask.png\n",
      "Masque sauvegardé dans : ../data/masks\\image_yn_50_mask.png\n",
      "Masque sauvegardé dans : ../data/masks\\image_yn_10_mask.png\n"
     ]
    },
    {
     "data": {
      "image/png": "[encoded data removed]",
      "text/plain": [
       "<Figure size 432x288 with 1 Axes>"
      ]
     },
     "metadata": {
      "needs_background": "light"
     },
     "output_type": "display_data"
    }
   ],
   "source": [
    "yn_generator = ImageMaskGenerator('../json/mask.json',\n",
    "                               '../data/images', \n",
    "                               '../data/masks',\n",
    "                               YN = True)\n",
    "yn_generator.generate_masks()\n"
   ]
  },
  {
   "cell_type": "code",
   "execution_count": 4,
   "id": "380d4fe5",
   "metadata": {},
   "outputs": [
    {
     "name": "stdout",
     "output_type": "stream",
     "text": [
      "Masque sauvegardé dans : ../data/masks\\image_max_1_mask.png\n",
      "Masque sauvegardé dans : ../data/masks\\image_max_2_mask.png\n",
      "Masque sauvegardé dans : ../data/masks\\image_max_4_mask.png\n",
      "Masque sauvegardé dans : ../data/masks\\image_max_5_mask.png\n",
      "Masque sauvegardé dans : ../data/masks\\image_max_6_mask.png\n",
      "Masque sauvegardé dans : ../data/masks\\image_max_7_mask.png\n",
      "Masque sauvegardé dans : ../data/masks\\image_max_8_mask.png\n",
      "Masque sauvegardé dans : ../data/masks\\image_max_9_mask.png\n",
      "Masque sauvegardé dans : ../data/masks\\image_max_10_mask.png\n",
      "Masque sauvegardé dans : ../data/masks\\image_max_11_mask.png\n",
      "Masque sauvegardé dans : ../data/masks\\image_max_13_mask.png\n",
      "Masque sauvegardé dans : ../data/masks\\image_max_14_mask.png\n",
      "Masque sauvegardé dans : ../data/masks\\image_max_15_mask.png\n",
      "Masque sauvegardé dans : ../data/masks\\image_max_16_mask.png\n",
      "Masque sauvegardé dans : ../data/masks\\image_max_17_mask.png\n",
      "Masque sauvegardé dans : ../data/masks\\image_max_18_mask.png\n",
      "Masque sauvegardé dans : ../data/masks\\image_max_19_mask.png\n",
      "Masque sauvegardé dans : ../data/masks\\image_max_20_mask.png\n",
      "Masque sauvegardé dans : ../data/masks\\image_max_22_mask.png\n",
      "Masque sauvegardé dans : ../data/masks\\image_max_23_mask.png\n",
      "Masque sauvegardé dans : ../data/masks\\image_max_24_mask.png\n",
      "Masque sauvegardé dans : ../data/masks\\image_max_25_mask.png\n",
      "Masque sauvegardé dans : ../data/masks\\image_max_26_mask.png\n",
      "Masque sauvegardé dans : ../data/masks\\image_max_27_mask.png\n",
      "Masque sauvegardé dans : ../data/masks\\image_max_29_mask.png\n",
      "Masque sauvegardé dans : ../data/masks\\image_max_30_mask.png\n",
      "Masque sauvegardé dans : ../data/masks\\image_max_31_mask.png\n",
      "Masque sauvegardé dans : ../data/masks\\image_max_32_mask.png\n",
      "Masque sauvegardé dans : ../data/masks\\image_max_34_mask.png\n",
      "Masque sauvegardé dans : ../data/masks\\image_max_35_mask.png\n",
      "Masque sauvegardé dans : ../data/masks\\image_max_36_mask.png\n",
      "Masque sauvegardé dans : ../data/masks\\image_max_37_mask.png\n",
      "Masque sauvegardé dans : ../data/masks\\image_max_38_mask.png\n",
      "Masque sauvegardé dans : ../data/masks\\image_max_39_mask.png\n",
      "Masque sauvegardé dans : ../data/masks\\image_max_40_mask.png\n",
      "Masque sauvegardé dans : ../data/masks\\image_max_42_mask.png\n",
      "Masque sauvegardé dans : ../data/masks\\image_max_43_mask.png\n",
      "Masque sauvegardé dans : ../data/masks\\image_max_44_mask.png\n",
      "Masque sauvegardé dans : ../data/masks\\image_max_45_mask.png\n",
      "Masque sauvegardé dans : ../data/masks\\image_max_46_mask.png\n",
      "Masque sauvegardé dans : ../data/masks\\image_max_47_mask.png\n",
      "Masque sauvegardé dans : ../data/masks\\image_max_48_mask.png\n",
      "Masque sauvegardé dans : ../data/masks\\image_max_49_mask.png\n",
      "Masque sauvegardé dans : ../data/masks\\image_max_50_mask.png\n",
      "Masque sauvegardé dans : ../data/masks\\image_max_3_mask.png\n",
      "Masque sauvegardé dans : ../data/masks\\image_max_12_mask.png\n",
      "Masque sauvegardé dans : ../data/masks\\image_max_21_mask.png\n",
      "Masque sauvegardé dans : ../data/masks\\image_max_33_mask.png\n",
      "Masque sauvegardé dans : ../data/masks\\image_max_41_mask.png\n",
      "Masque sauvegardé dans : ../data/masks\\image_max_28_mask.png\n"
     ]
    },
    {
     "data": {
      "image/png": "[encoded data removed]",
      "text/plain": [
       "<Figure size 432x288 with 1 Axes>"
      ]
     },
     "metadata": {
      "needs_background": "light"
     },
     "output_type": "display_data"
    }
   ],
   "source": [
    "mr_generator = ImageMaskGenerator('../json/mask_maxime.ndjson',\n",
    "                               '../data/images', \n",
    "                               '../data/masks',\n",
    "                               YN = False)\n",
    "mr_generator.generate_masks()"
   ]
  },
  {
   "cell_type": "code",
   "execution_count": 5,
   "id": "3976b725",
   "metadata": {},
   "outputs": [
    {
     "name": "stdout",
     "output_type": "stream",
     "text": [
      "Masque sauvegardé dans : ../data/test/masks\\image_test_1_mask.png\n",
      "Masque sauvegardé dans : ../data/test/masks\\image_test_2_mask.png\n",
      "Masque sauvegardé dans : ../data/test/masks\\image_test_3_mask.png\n",
      "Masque sauvegardé dans : ../data/test/masks\\image_test_4_mask.png\n",
      "Masque sauvegardé dans : ../data/test/masks\\image_test_5_mask.png\n",
      "Masque sauvegardé dans : ../data/test/masks\\image_test_6_mask.png\n",
      "Masque sauvegardé dans : ../data/test/masks\\image_test_7_mask.png\n",
      "Masque sauvegardé dans : ../data/test/masks\\image_test_8_mask.png\n",
      "Masque sauvegardé dans : ../data/test/masks\\image_test_9_mask.png\n",
      "Masque sauvegardé dans : ../data/test/masks\\image_test_10_mask.png\n",
      "Masque sauvegardé dans : ../data/test/masks\\image_test_16_mask.png\n",
      "Masque sauvegardé dans : ../data/test/masks\\image_test_17_mask.png\n",
      "Masque sauvegardé dans : ../data/test/masks\\image_test_18_mask.png\n",
      "Masque sauvegardé dans : ../data/test/masks\\image_test_19_mask.png\n",
      "Masque sauvegardé dans : ../data/test/masks\\image_test_20_mask.png\n",
      "Masque sauvegardé dans : ../data/test/masks\\image_test_12_mask.png\n",
      "Masque sauvegardé dans : ../data/test/masks\\image_test_11_mask.png\n",
      "Masque sauvegardé dans : ../data/test/masks\\image_test_13_mask.png\n",
      "Masque sauvegardé dans : ../data/test/masks\\image_test_14_mask.png\n",
      "Masque sauvegardé dans : ../data/test/masks\\image_test_15_mask.png\n"
     ]
    },
    {
     "data": {
      "image/png": "[encoded data removed]",
      "text/plain": [
       "<Figure size 432x288 with 1 Axes>"
      ]
     },
     "metadata": {
      "needs_background": "light"
     },
     "output_type": "display_data"
    }
   ],
   "source": [
    "yn_generator_test_data = ImageMaskGenerator('../json/mask_test.json',\n",
    "                               '../data/test/images', \n",
    "                               '../data/test/masks',\n",
    "                               YN = True)\n",
    "yn_generator_test_data.generate_masks()"
   ]
  },
  {
   "cell_type": "code",
   "execution_count": null,
   "id": "4dfeb57e",
   "metadata": {},
   "outputs": [],
   "source": []
  }
 ],
 "metadata": {
  "kernelspec": {
   "display_name": "Python 3 (ipykernel)",
   "language": "python",
   "name": "python3"
  },
  "language_info": {
   "codemirror_mode": {
    "name": "ipython",
    "version": 3
   },
   "file_extension": ".py",
   "mimetype": "text/x-python",
   "name": "python",
   "nbconvert_exporter": "python",
   "pygments_lexer": "ipython3",
   "version": "3.9.7"
  }
 },
 "nbformat": 4,
 "nbformat_minor": 5
}
